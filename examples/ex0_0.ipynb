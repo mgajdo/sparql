{
 "cells": [
  {
   "cell_type": "code",
   "execution_count": 1,
   "metadata": {},
   "outputs": [],
   "source": [
    "# for use in tutorial and development; do not include this `sys.path` change in production:\n",
    "import sys ; sys.path.insert(0, \"../\")"
   ]
  },
  {
   "cell_type": "markdown",
   "metadata": {},
   "source": [
    "# Data Sources\n",
    "\n",
    "Throughout this tutorial we'll work with data in the `dat` subdirectory:"
   ]
  },
  {
   "cell_type": "code",
   "execution_count": 2,
   "metadata": {},
   "outputs": [
    {
     "name": "stdout",
     "output_type": "stream",
     "text": [
      "total 110000\n",
      "-rw-r--r--   1     36K Jan 26  2021 acq.ttl\n",
      "-rw-r--r--@  1     40M Jan 15  2021 all_ind.csv\n",
      "-rw-r--r--   1     24K Jan 15  2021 data_prep.ipynb\n",
      "drwxr-xr-x  10    320B Nov  6  2020 \u001b[34mfood_com\u001b[m\u001b[m\n",
      "-rw-r--r--   1    3.0K Apr 24  2021 gorm.jsonld\n",
      "-rw-r--r--   1    3.8K Apr 25  2021 gorm.parquet\n",
      "-rw-r--r--   1    1.0K Feb 13  2021 gorm.ttl\n",
      "-rw-r--r--   1    5.0K Apr 24  2021 nom.jsonld\n",
      "-rw-r--r--   1    4.9K Apr 25  2021 nom.parquet\n",
      "-rw-r--r--   1    2.7K Jan 15  2021 nom.ttl\n",
      "drwxr-xr-x  13    416B Nov 25  2020 \u001b[34mpsl\u001b[m\u001b[m\n",
      "-rwxr-xr-x   1    128K Jan 15  2021 \u001b[31mrecipes.csv\u001b[m\u001b[m\n",
      "-rw-r--r--   1     65K Jan 15  2021 recipes.ttl\n",
      "-rw-r--r--   1     26K May  9  2021 roam.json\n",
      "drwxr-xr-x   5    160B Jan 15  2021 \u001b[34mtitanic\u001b[m\u001b[m\n",
      "-rw-r--r--   1     14M Jan 15  2021 weatherAUS.csv\n"
     ]
    }
   ],
   "source": [
    "!ls -goh ../dat"
   ]
  },
  {
   "cell_type": "markdown",
   "metadata": {},
   "source": [
    "In particular, we'll work with a series of *progressive examples* based on the \n",
    "`dat/recipes.csv` CSV file.\n",
    "This data comes from a \n",
    "[Kaggle dataset](https://www.kaggle.com/shuyangli94/food-com-recipes-and-user-interactions/metadata)\n",
    "that describes metadata about [Food.com](https://food.com/):\n",
    "\n",
    "> \"Food.com Recipes and Interactions\"  \n",
    "Shuyang Li  \n",
    "Kaggle (2019)  \n",
    "<https://doi.org/10.34740/kaggle/dsv/783630>"
   ]
  },
  {
   "cell_type": "markdown",
   "metadata": {},
   "source": [
    "One of the simpler recipes in that dataset is `\"anytime crepes\".\n",
    "\n",
    "Note the local dataset is not in sync with the ids of the web library.\n",
    "\n",
    "  * id: 327593\n",
    "  * minutes: 8\n",
    "  * ingredients: `\"['egg', 'milk', 'whole wheat flour']\"`\n",
    "\n",
    "Online: 8 minutes and ingredients\n",
    "1 cup flour\n",
    "1 1⁄2 cups milk\n",
    "2 eggs\n",
    "1 teaspoon vegetable oil\n",
    "1⁄4 teaspoon salt)\n",
    "  \n",
    "The tutorial begins by showing how to represent the metadata for this recipe in a knowledge graph, then gradually builds up more and more information about this collection of recipes.\n",
    "\n",
    "To start, let's load and examine the CSV data:"
   ]
  },
  {
   "cell_type": "code",
   "execution_count": 1,
   "metadata": {},
   "outputs": [
    {
     "data": {
      "text/html": [
       "<div>\n",
       "<style scoped>\n",
       "    .dataframe tbody tr th:only-of-type {\n",
       "        vertical-align: middle;\n",
       "    }\n",
       "\n",
       "    .dataframe tbody tr th {\n",
       "        vertical-align: top;\n",
       "    }\n",
       "\n",
       "    .dataframe thead th {\n",
       "        text-align: right;\n",
       "    }\n",
       "</style>\n",
       "<table border=\"1\" class=\"dataframe\">\n",
       "  <thead>\n",
       "    <tr style=\"text-align: right;\">\n",
       "      <th></th>\n",
       "      <th>id</th>\n",
       "      <th>name</th>\n",
       "      <th>minutes</th>\n",
       "      <th>tags</th>\n",
       "      <th>description</th>\n",
       "      <th>ingredients</th>\n",
       "    </tr>\n",
       "  </thead>\n",
       "  <tbody>\n",
       "    <tr>\n",
       "      <th>0</th>\n",
       "      <td>164636</td>\n",
       "      <td>1 1 1 tempura batter</td>\n",
       "      <td>5</td>\n",
       "      <td>['15-minutes-or-less', 'time-to-make', 'course...</td>\n",
       "      <td>i use this everytime i make onion rings, hot p...</td>\n",
       "      <td>['egg', 'flour', 'water']</td>\n",
       "    </tr>\n",
       "    <tr>\n",
       "      <th>1</th>\n",
       "      <td>144841</td>\n",
       "      <td>2 step pound cake  for a kitchen aide mixer</td>\n",
       "      <td>110</td>\n",
       "      <td>['time-to-make', 'course', 'preparation', 'occ...</td>\n",
       "      <td>this recipe was published in a southern living...</td>\n",
       "      <td>['flour', 'sugar', 'butter', 'milk', 'eggs', '...</td>\n",
       "    </tr>\n",
       "    <tr>\n",
       "      <th>2</th>\n",
       "      <td>189437</td>\n",
       "      <td>40 second omelet</td>\n",
       "      <td>25</td>\n",
       "      <td>['30-minutes-or-less', 'time-to-make', 'course...</td>\n",
       "      <td>you'll need an \"inverted pancake turner\" for t...</td>\n",
       "      <td>['eggs', 'water', 'butter']</td>\n",
       "    </tr>\n",
       "    <tr>\n",
       "      <th>3</th>\n",
       "      <td>19104</td>\n",
       "      <td>all purpose dinner crepes batter</td>\n",
       "      <td>90</td>\n",
       "      <td>['weeknight', 'time-to-make', 'course', 'main-...</td>\n",
       "      <td>this basic crepe recipe can be used for all yo...</td>\n",
       "      <td>['eggs', 'salt', 'flour', 'milk', 'butter']</td>\n",
       "    </tr>\n",
       "    <tr>\n",
       "      <th>4</th>\n",
       "      <td>64793</td>\n",
       "      <td>amish friendship starter</td>\n",
       "      <td>14405</td>\n",
       "      <td>['weeknight', 'time-to-make', 'course', 'cuisi...</td>\n",
       "      <td>this recipe was given to me years ago by a fri...</td>\n",
       "      <td>['sugar', 'flour', 'milk']</td>\n",
       "    </tr>\n",
       "  </tbody>\n",
       "</table>\n",
       "</div>"
      ],
      "text/plain": [
       "       id                                         name  minutes  \\\n",
       "0  164636                         1 1 1 tempura batter        5   \n",
       "1  144841  2 step pound cake  for a kitchen aide mixer      110   \n",
       "2  189437                             40 second omelet       25   \n",
       "3   19104             all purpose dinner crepes batter       90   \n",
       "4   64793                     amish friendship starter    14405   \n",
       "\n",
       "                                                tags  \\\n",
       "0  ['15-minutes-or-less', 'time-to-make', 'course...   \n",
       "1  ['time-to-make', 'course', 'preparation', 'occ...   \n",
       "2  ['30-minutes-or-less', 'time-to-make', 'course...   \n",
       "3  ['weeknight', 'time-to-make', 'course', 'main-...   \n",
       "4  ['weeknight', 'time-to-make', 'course', 'cuisi...   \n",
       "\n",
       "                                         description  \\\n",
       "0  i use this everytime i make onion rings, hot p...   \n",
       "1  this recipe was published in a southern living...   \n",
       "2  you'll need an \"inverted pancake turner\" for t...   \n",
       "3  this basic crepe recipe can be used for all yo...   \n",
       "4  this recipe was given to me years ago by a fri...   \n",
       "\n",
       "                                         ingredients  \n",
       "0                          ['egg', 'flour', 'water']  \n",
       "1  ['flour', 'sugar', 'butter', 'milk', 'eggs', '...  \n",
       "2                        ['eggs', 'water', 'butter']  \n",
       "3        ['eggs', 'salt', 'flour', 'milk', 'butter']  \n",
       "4                         ['sugar', 'flour', 'milk']  "
      ]
     },
     "execution_count": 1,
     "metadata": {},
     "output_type": "execute_result"
    }
   ],
   "source": [
    "from os.path import dirname\n",
    "import os\n",
    "import pandas as pd\n",
    "\n",
    "df = pd.read_csv(dirname(os.getcwd()) + \"/dat/recipes.csv\")\n",
    "df.head()"
   ]
  },
  {
   "cell_type": "markdown",
   "metadata": {},
   "source": [
    "Now let's drill down to the metadata for the `\"anytime crepes\"` recipe"
   ]
  },
  {
   "cell_type": "code",
   "execution_count": 2,
   "metadata": {},
   "outputs": [
    {
     "data": {
      "text/plain": [
       "id                                                        327593\n",
       "name                                              anytime crepes\n",
       "minutes                                                        8\n",
       "tags           ['15-minutes-or-less', 'time-to-make', 'course...\n",
       "description    from my friend linda, this is an oh-so-easy-an...\n",
       "ingredients                 ['egg', 'milk', 'whole wheat flour']\n",
       "Name: 8, dtype: object"
      ]
     },
     "execution_count": 2,
     "metadata": {},
     "output_type": "execute_result"
    }
   ],
   "source": [
    "recipe_row = df[df[\"name\"] == \"anytime crepes\"].iloc[0]\n",
    "recipe_row"
   ]
  },
  {
   "cell_type": "markdown",
   "metadata": {},
   "source": [
    "Given that we have a rich source of *linked data* to use, next we need to focus on *knowledge representation*. \n",
    "We'll use the [FoodOn](https://foodon.org/design/foodon-relations/) ontology (see below) to represent recipes, making use of two of its *controlled vocabularies*:\n",
    "\n",
    "  * <http://purl.org/heals/food/>\n",
    "  * <http://purl.org/heals/ingredient/>\n",
    "  \n",
    "The first one defines an entity called `Recipe` which has the full URL of <http://purl.org/heals/food/Recipe> and we'll use that to represent our recipe data from the *Food.com* dataset.\n",
    "  \n",
    "It's a common practice to abbreviate the first part of the URL for a controlled vocabulary with a *prefix*.\n",
    "In this case we'll use the prefix conventions used in previous publications related to this ontology:\n",
    "\n",
    "| URL | prefix |  \n",
    "| --- | --- |  \n",
    "| <http://purl.org/heals/food/> | `wtm:` |\n",
    "| <http://purl.org/heals/ingredient/> | `ind:` |"
   ]
  },
  {
   "cell_type": "markdown",
   "metadata": {},
   "source": [
    "Now let's represent the data using this ontology, starting with the three ingredients for the **anytime crepes** recipe:"
   ]
  },
  {
   "cell_type": "code",
   "execution_count": 5,
   "metadata": {},
   "outputs": [
    {
     "data": {
      "text/plain": [
       "['egg', 'milk', 'whole wheat flour']"
      ]
     },
     "execution_count": 5,
     "metadata": {},
     "output_type": "execute_result"
    }
   ],
   "source": [
    "ingredients = eval(recipe_row[\"ingredients\"])\n",
    "ingredients"
   ]
  },
  {
   "cell_type": "markdown",
   "metadata": {},
   "source": [
    "These ingredients become represented, respectively, as:\n",
    "\n",
    "  * `ind:ChickenEgg`\n",
    "  * `ind:CowMilk`\n",
    "  * `ind:WholeWheatFlour`"
   ]
  },
  {
   "cell_type": "markdown",
   "metadata": {},
   "source": [
    "## Ontology Sources"
   ]
  },
  {
   "cell_type": "markdown",
   "metadata": {},
   "source": [
    "We'll use several different sources for data and ontology throughout the **kglab** tutorial, although most of it focuses on progressive examples that use [*FoodOn*](https://www.nature.com/articles/s41538-018-0032-6).\n",
    "\n",
    "*FoodOn* – subtitled \"a farm to fork ontology\" – takes a comprehensive view of the data and metadata involved in our food supply, beginning with seed genomics, micronutrients, the biology of food alergies, etc.\n",
    "This work is predicated on leveraging large knowledge graphs to represent the different areas of science, technology, business, public policy, etc.:\n",
    "\n",
    "> The need to represent knowledge about food is central to many human activities including agriculture, medicine, food safety inspection, shopping patterns, and sustainable development. FoodOn is an ontology – a controlled vocabulary which can be used by both people and computers – to name all parts of animals, plants, and fungai which can bear a food role for humans and domesticated animals, as well as derived food products and the processes used to make them.\n",
    "\n",
    "For more details, see:\n",
    "\n",
    "  * <https://foodon.org/design/foodon-relations/>\n",
    "  * <https://foodkg.github.io/docs/ontologyDocumentation/Ingredient/doc/index-en.html>\n",
    "  * <https://foodkg.github.io/foodkg.html>\n",
    "  * <https://github.com/foodkg/foodkg.github.io>\n",
    "\n",
    "For primary sources, see: [[vardeman2014ceur]](https://derwen.ai/docs/kgl/biblio/#vardeman2014ceur), [[sam2014odp]](https://derwen.ai/docs/kgl/biblio/#sam2014odp), [[dooley2018npj]](https://derwen.ai/docs/kgl/biblio/#dooley2018npj), [[hitzler2018]](https://derwen.ai/docs/kgl/biblio/#hitzler2018)"
   ]
  },
  {
   "cell_type": "markdown",
   "metadata": {},
   "source": [
    "We'll work through several examples of representation, although here's an example of what a full recipe in *FoodOn* would look like:"
   ]
  },
  {
   "cell_type": "raw",
   "metadata": {},
   "source": [
    "owl:NamedIndividual a wtm:Recipe ;\n",
    "  rdf:about ind:BananaBlueberryAlmondFlourMuffin ;\n",
    "  wtm:hasIngredient ind:AlmondMeal ;\n",
    "  wtm:hasIngredient ind:AppleCiderVinegar ;\n",
    "  wtm:hasIngredient ind:BakingSoda ;\n",
    "  wtm:hasIngredient ind:Banana ;\n",
    "  wtm:hasIngredient ind:Blueberry ;\n",
    "  wtm:hasIngredient ind:ChickenEgg ;\n",
    "  wtm:hasIngredient ind:Honey ;\n",
    "  wtm:isRecommendedForCourse wtm:Dessert ;\n",
    "  wtm:isRecommendedForMeal wtm:Breakfast ;\n",
    "  wtm:isRecommendedForMeal wtm:Snack ;\n",
    "  wtm:hasCookTime \"PT60M\"^^xsd:duration ;\n",
    "  wtm:hasCookingTemperature \"350\"^^xsd:integer ;\n",
    "  wtm:serves \"4\"^^xsd:integer ;\n",
    "  rdfs:label \"banana blueberry almond flour muffin\" ;\n",
    "  skos:definition \"a banana blueberry muffin made with almond flour\" ;\n",
    "  skos:scopeNote \"recipe\" ;\n",
    "  prov:wasDerivedFrom <https://www.allrecipes.com/recipe/238012/banana-blueberry-almond-flour-muffins-gluten-free/?internalSource=hub%20recipe&referringContentType=Search>\n",
    "."
   ]
  },
  {
   "cell_type": "markdown",
   "metadata": {},
   "source": [
    "## Graph Size Comparisons"
   ]
  },
  {
   "cell_type": "markdown",
   "metadata": {},
   "source": [
    "One frequently asked question is about the size of the graphs that we're using in the **kglab** tutorial.\n",
    "The short answer: \"No, these aren't trivial graphs.\"\n",
    "\n",
    "We'll start out with small examples, to show the basics for how to construct an RDF graph.\n",
    "\n",
    "Most of the examples here will use  a knowledge graph with ~300 nodes and ~2000 edges.\n",
    "This is a *non-trivial* size, especially when you start working with some graph algorithms.\n",
    "Again, this tutorial has learning as its main intent, and this size of graph is ideal for running queries, validation, graph algorithms, visualization, etc., with the kinds of compute and memory resources available on contemporary laptops.\n",
    "\n",
    "In other words, we prioritize datasets that are large enough for examples to illustrate common use cases, though small enough for learners to understand.\n",
    "\n",
    "  * 10^6 or more nodes are needed for deep learning\n",
    "  * 10^8 can run on contemporary laptops \n",
    "  * larger graphs require hardware accelerators (e.g., GPUs) or cloud-based clusters\n",
    "\n",
    "The full `recipes.tsv` dataset includes nearly 250,000 recipes. In some of the later examples, we'll work with that entire dataset – which is definitely non-trivial."
   ]
  }
 ],
 "metadata": {
  "kernelspec": {
   "display_name": "Python 3 (ipykernel)",
   "language": "python",
   "name": "python3"
  },
  "language_info": {
   "codemirror_mode": {
    "name": "ipython",
    "version": 3
   },
   "file_extension": ".py",
   "mimetype": "text/x-python",
   "name": "python",
   "nbconvert_exporter": "python",
   "pygments_lexer": "ipython3",
   "version": "3.10.5"
  }
 },
 "nbformat": 4,
 "nbformat_minor": 4
}
