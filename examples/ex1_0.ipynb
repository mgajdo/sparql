{
 "cells": [
  {
   "cell_type": "code",
   "execution_count": 1,
   "metadata": {},
   "outputs": [],
   "source": [
    "# for use in tutorial and development; do not include this `sys.path` change in production:\n",
    "import sys ; sys.path.insert(0, \"../\")"
   ]
  },
  {
   "cell_type": "markdown",
   "metadata": {},
   "source": [
    "# Building a graph in RDF using `rdflib`\n",
    "\n",
    "First we'll build a Graph object in [`rdflib`](https://rdflib.readthedocs.io/) to which we can add nodes and relations:"
   ]
  },
  {
   "cell_type": "code",
   "execution_count": 2,
   "metadata": {},
   "outputs": [],
   "source": [
    "import rdflib\n",
    "\n",
    "g = rdflib.Graph()"
   ]
  },
  {
   "cell_type": "markdown",
   "metadata": {},
   "source": [
    "In RDF, a graph is constructed from [*triples*](https://www.w3.org/TR/n-triples/), each of which represents an RDF *statement* that has at least three components:\n",
    "\n",
    "  * *subject*: the entity being annotated\n",
    "  * *predicate*: a relation between the subject and the object\n",
    "  * *object*: another entity or a literal value"
   ]
  },
  {
   "cell_type": "markdown",
   "metadata": {},
   "source": [
    "We'll represent the **anytime crepes** recipe by making programmatic calls to `rdflib`, starting with a URL constructed from the recipe `id` as an initial node.\n",
    "We'll show this as our first subject `s` to be annotated using RDF statements."
   ]
  },
  {
   "cell_type": "code",
   "execution_count": 3,
   "metadata": {},
   "outputs": [
    {
     "data": {
      "text/plain": [
       "rdflib.term.URIRef('https://www.food.com/recipe/327593')"
      ]
     },
     "execution_count": 3,
     "metadata": {},
     "output_type": "execute_result"
    }
   ],
   "source": [
    "uri = \"https://www.food.com/recipe/327593\"\n",
    "s = rdflib.URIRef(uri)\n",
    "s"
   ]
  },
  {
   "cell_type": "markdown",
   "metadata": {},
   "source": [
    "Throughout work with KGs, there's an important practice of using [*persistent identifiers*](https://www.openaire.eu/what-is-a-persistent-identifier) which are both *unique* and *persistent*, in other words the opposite of [*link rot*](https://youtu.be/EEtMFq7lAKQ).\n",
    "\n",
    "We could have used other ways to identify that node, such as a unique name.\n",
    "Even so, if we think of this recipe as a resource online, then its URL is both *unique* and *persistent* as long as the \"food.com\" website is available. "
   ]
  },
  {
   "cell_type": "markdown",
   "metadata": {},
   "source": [
    "Next we'll use [`rdf:type`](https://www.w3.org/TR/rdf-schema/#ch_type) as the predicate `p` to describe the subject as an instance of `wmt:Recipe`"
   ]
  },
  {
   "cell_type": "code",
   "execution_count": 4,
   "metadata": {},
   "outputs": [
    {
     "data": {
      "text/plain": [
       "rdflib.term.URIRef('http://www.w3.org/1999/02/22-rdf-syntax-ns#type')"
      ]
     },
     "execution_count": 4,
     "metadata": {},
     "output_type": "execute_result"
    }
   ],
   "source": [
    "from rdflib.namespace import RDF\n",
    "\n",
    "p = RDF.type\n",
    "p"
   ]
  },
  {
   "cell_type": "markdown",
   "metadata": {},
   "source": [
    "While the first two nodes in the graph used vocabularies that are predefined in `rdflib`, now we'll need to reference other vocabularies.\n",
    "We'll need to use the [`NamespaceManager`](https://rdflib.readthedocs.io/en/stable/namespaces_and_bindings.html) in `rdflib` to bind and access the namespaces for those vocabularies, which is the `nm` variable:"
   ]
  },
  {
   "cell_type": "code",
   "execution_count": 5,
   "metadata": {},
   "outputs": [],
   "source": [
    "nm = g.namespace_manager"
   ]
  },
  {
   "cell_type": "markdown",
   "metadata": {},
   "source": [
    "By convention we use a *prefix* as a convenience way to abbreviate each namespace.\n",
    "For example, in the `rdf:type` predicate above the `rdf:` prefix is an abbreviation for the full `http://www.w3.org/1999/02/22-rdf-syntax-ns#` URL of the RDF namespace. \n",
    "See the <http://prefix.cc/> online resource to lookup the common usages for prefixes.\n",
    "\n",
    "Next we'll define the `wtm` prefix for the \"What to Make Base Ontology\" at <http://purl.org/heals/food/>"
   ]
  },
  {
   "cell_type": "code",
   "execution_count": 6,
   "metadata": {},
   "outputs": [],
   "source": [
    "uri = \"http://purl.org/heals/food/\"\n",
    "ns_wtm = rdflib.Namespace(uri)\n",
    "\n",
    "prefix = \"wtm\"\n",
    "nm.bind(prefix, ns_wtm)"
   ]
  },
  {
   "cell_type": "markdown",
   "metadata": {},
   "source": [
    "Now we can use this `wtm:` namespace to reference the object `o` as the `wtm:Recipe` entity:"
   ]
  },
  {
   "cell_type": "code",
   "execution_count": 7,
   "metadata": {},
   "outputs": [
    {
     "data": {
      "text/plain": [
       "rdflib.term.URIRef('http://purl.org/heals/food/Recipe')"
      ]
     },
     "execution_count": 7,
     "metadata": {},
     "output_type": "execute_result"
    }
   ],
   "source": [
    "o = ns_wtm.Recipe\n",
    "o"
   ]
  },
  {
   "cell_type": "markdown",
   "metadata": {},
   "source": [
    "Note how that object resolves to the URL <http://purl.org/heals/food/Recipe> – which is a link to the vocabulary's RDF description.\n",
    "\n",
    "Finally, we'll add the tuple `(s, p, o,)` to the graph:"
   ]
  },
  {
   "cell_type": "code",
   "execution_count": 8,
   "metadata": {},
   "outputs": [
    {
     "data": {
      "text/plain": [
       "<Graph identifier=Na79ce66b747d43168f34368039d72c2a (<class 'rdflib.graph.Graph'>)>"
      ]
     },
     "execution_count": 8,
     "metadata": {},
     "output_type": "execute_result"
    }
   ],
   "source": [
    "g.add((s, p, o,))\n",
    "g"
   ]
  },
  {
   "cell_type": "markdown",
   "metadata": {},
   "source": [
    "Now let's add the remaining metadata for the **anytime crepes** recipe.\n",
    "The required cooking time of \"8 minutes\" can be represented as a predicate `wtm:hasCookTime` and the literal `8` which we'll define as an [`xsd:integer`](https://rdflib.readthedocs.io/en/stable/rdf_terms.html) value:"
   ]
  },
  {
   "cell_type": "code",
   "execution_count": 9,
   "metadata": {},
   "outputs": [
    {
     "data": {
      "text/plain": [
       "rdflib.term.URIRef('http://purl.org/heals/food/hasCookTime')"
      ]
     },
     "execution_count": 9,
     "metadata": {},
     "output_type": "execute_result"
    }
   ],
   "source": [
    "p = ns_wtm.hasCookTime\n",
    "p"
   ]
  },
  {
   "cell_type": "code",
   "execution_count": 10,
   "metadata": {},
   "outputs": [
    {
     "data": {
      "text/plain": [
       "rdflib.term.Literal('8', datatype=rdflib.term.URIRef('http://www.w3.org/2001/XMLSchema#integer'))"
      ]
     },
     "execution_count": 10,
     "metadata": {},
     "output_type": "execute_result"
    }
   ],
   "source": [
    "from rdflib.namespace import XSD\n",
    "\n",
    "o = rdflib.Literal(\"8\", datatype=XSD.integer)\n",
    "o"
   ]
  },
  {
   "cell_type": "code",
   "execution_count": 11,
   "metadata": {},
   "outputs": [
    {
     "data": {
      "text/plain": [
       "<Graph identifier=Na79ce66b747d43168f34368039d72c2a (<class 'rdflib.graph.Graph'>)>"
      ]
     },
     "execution_count": 11,
     "metadata": {},
     "output_type": "execute_result"
    }
   ],
   "source": [
    "g.add((s, p, o,))"
   ]
  },
  {
   "cell_type": "markdown",
   "metadata": {},
   "source": [
    "Now let's add the three ingredients `[\"eggs\", \"milk\", \"whole wheat flour\"]` based on the vocabulary <http://purl.org/heals/ingredient/> of food ingredients:"
   ]
  },
  {
   "cell_type": "code",
   "execution_count": 12,
   "metadata": {},
   "outputs": [
    {
     "data": {
      "text/plain": [
       "rdflib.term.URIRef('http://purl.org/heals/food/hasIngredient')"
      ]
     },
     "execution_count": 12,
     "metadata": {},
     "output_type": "execute_result"
    }
   ],
   "source": [
    "p = ns_wtm.hasIngredient\n",
    "p"
   ]
  },
  {
   "cell_type": "markdown",
   "metadata": {},
   "source": [
    "The WhatToMake Individuals Ontology contains the invididual recipes and food items (`ind`) used in those recipes that are available in the system. These individuals are defined using classes and properties that are defined in the WhatToMake Base Ontology."
   ]
  },
  {
   "cell_type": "code",
   "execution_count": 13,
   "metadata": {},
   "outputs": [],
   "source": [
    "uri = \"http://purl.org/heals/ingredient/\"\n",
    "ns_ind = rdflib.Namespace(uri)\n",
    "\n",
    "prefix = \"ind\"\n",
    "nm.bind(prefix, ns_ind)"
   ]
  },
  {
   "cell_type": "code",
   "execution_count": 14,
   "metadata": {},
   "outputs": [
    {
     "data": {
      "text/plain": [
       "rdflib.term.URIRef('http://purl.org/heals/ingredient/ChickenEgg')"
      ]
     },
     "execution_count": 14,
     "metadata": {},
     "output_type": "execute_result"
    }
   ],
   "source": [
    "o = ns_ind.ChickenEgg\n",
    "o"
   ]
  },
  {
   "cell_type": "code",
   "execution_count": 15,
   "metadata": {},
   "outputs": [
    {
     "data": {
      "text/plain": [
       "<Graph identifier=Na79ce66b747d43168f34368039d72c2a (<class 'rdflib.graph.Graph'>)>"
      ]
     },
     "execution_count": 15,
     "metadata": {},
     "output_type": "execute_result"
    }
   ],
   "source": [
    "g.add((s, p, o,))"
   ]
  },
  {
   "cell_type": "code",
   "execution_count": 16,
   "metadata": {},
   "outputs": [
    {
     "data": {
      "text/plain": [
       "<Graph identifier=Na79ce66b747d43168f34368039d72c2a (<class 'rdflib.graph.Graph'>)>"
      ]
     },
     "execution_count": 16,
     "metadata": {},
     "output_type": "execute_result"
    }
   ],
   "source": [
    "g.add((s, p, ns_ind.CowMilk,))\n",
    "g.add((s, p, ns_ind.WholeWheatFlour,))"
   ]
  },
  {
   "cell_type": "markdown",
   "metadata": {},
   "source": [
    "To confirm what we've built so far, we can iterate through each of the `(s, p, o,)` statements in the graph:"
   ]
  },
  {
   "cell_type": "code",
   "execution_count": 17,
   "metadata": {},
   "outputs": [
    {
     "name": "stdout",
     "output_type": "stream",
     "text": [
      "https://www.food.com/recipe/327593 http://purl.org/heals/food/hasIngredient http://purl.org/heals/ingredient/CowMilk\n",
      "https://www.food.com/recipe/327593 http://purl.org/heals/food/hasCookTime 8\n",
      "https://www.food.com/recipe/327593 http://www.w3.org/1999/02/22-rdf-syntax-ns#type http://purl.org/heals/food/Recipe\n",
      "https://www.food.com/recipe/327593 http://purl.org/heals/food/hasIngredient http://purl.org/heals/ingredient/WholeWheatFlour\n",
      "https://www.food.com/recipe/327593 http://purl.org/heals/food/hasIngredient http://purl.org/heals/ingredient/ChickenEgg\n"
     ]
    }
   ],
   "source": [
    "for s, p, o in g:\n",
    "    print(s, p, o)"
   ]
  },
  {
   "cell_type": "markdown",
   "metadata": {},
   "source": [
    "## Serialization as \"Turtle\" statements\n",
    "\n",
    "First let's show how to serialize the graph as `ttl` or [*turtle*](https://www.w3.org/TR/turtle/) format.\n",
    "This will be returned from RDF as a byte array, so we'll need to use a Unicode [*codec*](https://docs.python.org/3/library/codecs.html) to convert the serialized graph into a string:"
   ]
  },
  {
   "cell_type": "code",
   "execution_count": 18,
   "metadata": {},
   "outputs": [
    {
     "name": "stdout",
     "output_type": "stream",
     "text": [
      "@prefix ind: <http://purl.org/heals/ingredient/> .\n",
      "@prefix wtm: <http://purl.org/heals/food/> .\n",
      "@prefix xsd: <http://www.w3.org/2001/XMLSchema#> .\n",
      "\n",
      "<https://www.food.com/recipe/327593> a wtm:Recipe ;\n",
      "    wtm:hasCookTime 8 ;\n",
      "    wtm:hasIngredient ind:ChickenEgg,\n",
      "        ind:CowMilk,\n",
      "        ind:WholeWheatFlour .\n",
      "\n",
      "\n"
     ]
    }
   ],
   "source": [
    "s = g.serialize(format=\"ttl\")\n",
    "print(s)"
   ]
  },
  {
   "cell_type": "markdown",
   "metadata": {},
   "source": [
    "Similarly, we can serialize the graph as RDF statements to a file `tmp.ttl` in the local directory:"
   ]
  },
  {
   "cell_type": "code",
   "execution_count": 19,
   "metadata": {},
   "outputs": [],
   "source": [
    "g.serialize(destination=\"tmp.ttl\", format=\"ttl\", encoding=\"utf-8\") ;"
   ]
  },
  {
   "cell_type": "markdown",
   "metadata": {},
   "source": [
    "Try taking a look at the `tmp.ttl` file.\n",
    "Is it the same as the serialization shown above?"
   ]
  },
  {
   "cell_type": "markdown",
   "metadata": {},
   "source": [
    "## Serialization as JSON-LD\n",
    "\n",
    "Next, let's serialize the graph in [JSON-LD](https://json-ld.org/) format, stored in the `tmp.jsonld` file in the local directory:"
   ]
  },
  {
   "cell_type": "code",
   "execution_count": 20,
   "metadata": {},
   "outputs": [],
   "source": [
    "data = g.serialize(\n",
    "    format=\"json-ld\",\n",
    "    indent=2,\n",
    "    encoding=\"utf-8\",\n",
    "    )\n",
    "\n",
    "with open(\"tmp.jsonld\", \"wb\") as f:\n",
    "    f.write(data)"
   ]
  },
  {
   "cell_type": "markdown",
   "metadata": {},
   "source": [
    "Try taking a look at the `tmp.jsonld` file.\n",
    "Each entity, relation, and literal value has a full URL known as an *IRI* (internationalized resource locator) which [identifies a resource](https://www.w3.org/TR/json-ld11/#iris) used to define it.\n",
    "\n",
    "We can make these JSON-LD files a bit more succinct by adding a `context` that defines prefixes for each of the vocabularies used:"
   ]
  },
  {
   "cell_type": "code",
   "execution_count": 21,
   "metadata": {},
   "outputs": [],
   "source": [
    "context = {\n",
    "    \"@language\": \"en\",\n",
    "    \"wtm\": \"http://purl.org/heals/food/\",\n",
    "    \"ind\": \"http://purl.org/heals/ingredient/\",\n",
    "    }"
   ]
  },
  {
   "cell_type": "code",
   "execution_count": 22,
   "metadata": {},
   "outputs": [
    {
     "data": {
      "text/plain": [
       "{'@language': 'en',\n",
       " 'wtm': 'http://purl.org/heals/food/',\n",
       " 'ind': 'http://purl.org/heals/ingredient/'}"
      ]
     },
     "execution_count": 22,
     "metadata": {},
     "output_type": "execute_result"
    }
   ],
   "source": [
    "context"
   ]
  },
  {
   "cell_type": "markdown",
   "metadata": {},
   "source": [
    "Now we'll serialize again as JSON-LD, this time using the context:"
   ]
  },
  {
   "cell_type": "code",
   "execution_count": 23,
   "metadata": {},
   "outputs": [],
   "source": [
    "data = g.serialize(\n",
    "    format=\"json-ld\",\n",
    "    context=context,\n",
    "    indent=2,\n",
    "    encoding=\"utf-8\",\n",
    "    )\n",
    "\n",
    "with open(\"tmp.jsonld\", \"wb\") as f:\n",
    "    f.write(data)"
   ]
  },
  {
   "cell_type": "markdown",
   "metadata": {},
   "source": [
    "Open these two files and compare the difference.\n",
    "Notice how the `ttl` file is easier to read (for people), while the `json-ld` file has all of the metadata explicitly linked and it easier for machines to read – even simply as a JSON file, not using any semantic technologies."
   ]
  },
  {
   "cell_type": "markdown",
   "metadata": {},
   "source": [
    "---\n",
    "\n",
    "## Exercises"
   ]
  },
  {
   "cell_type": "markdown",
   "metadata": {},
   "source": [
    "**Exercise 1:**\n",
    "\n",
    "By using `ns_ind.AllPurposeFlour` to represent `\"flour\"` as another possible ingredient, how would you extend the graph to represent the *German Egg Pancakes* <https://www.food.com/recipe/406738> recipe?"
   ]
  },
  {
   "cell_type": "markdown",
   "metadata": {},
   "source": [
    "**Exercise 2:**\n",
    "\n",
    "The `wtm:hasCookTime` predicate uses an `xsd:integer` literal to represent cooking time in minutes.\n",
    "That may be confusing to someone who is not familiar with this dataset.\n",
    "Instead, represent the cooking time using an [`xsd:duration`](http://www.datypic.com/sc/xsd/t-xsd_duration.html) literal."
   ]
  }
 ],
 "metadata": {
  "kernelspec": {
   "display_name": "Python 3 (ipykernel)",
   "language": "python",
   "name": "python3"
  },
  "language_info": {
   "codemirror_mode": {
    "name": "ipython",
    "version": 3
   },
   "file_extension": ".py",
   "mimetype": "text/x-python",
   "name": "python",
   "nbconvert_exporter": "python",
   "pygments_lexer": "ipython3",
   "version": "3.10.5"
  }
 },
 "nbformat": 4,
 "nbformat_minor": 4
}
